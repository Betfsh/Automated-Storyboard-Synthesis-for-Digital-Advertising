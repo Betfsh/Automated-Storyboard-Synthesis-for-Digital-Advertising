{
 "cells": [
  {
   "cell_type": "code",
   "execution_count": 42,
   "id": "14eefc5b-82d4-4099-bf86-a0c501f0336f",
   "metadata": {},
   "outputs": [],
   "source": [
    "import pandas as pd\n",
    "import numpy as np\n",
    "import matplotlib.pyplot as plt\n",
    "import seaborn as sns"
   ]
  },
  {
   "cell_type": "markdown",
   "id": "f29fd983",
   "metadata": {},
   "source": [
    "### Exploring challenge data"
   ]
  },
  {
   "cell_type": "code",
   "execution_count": 3,
   "id": "ea24c9b9",
   "metadata": {},
   "outputs": [],
   "source": [
    "df = pd.read_csv(\"../data/Challenge_Data/performance_data.csv\")"
   ]
  },
  {
   "cell_type": "code",
   "execution_count": 20,
   "id": "4250a47f",
   "metadata": {},
   "outputs": [
    {
     "data": {
      "text/plain": [
       "Index(['game_id', 'preview_link', 'ER', 'CTR'], dtype='object')"
      ]
     },
     "execution_count": 20,
     "metadata": {},
     "output_type": "execute_result"
    }
   ],
   "source": [
    "df.columns"
   ]
  },
  {
   "cell_type": "markdown",
   "id": "75bd1287",
   "metadata": {},
   "source": [
    "#### In mobile advertising, two key metrics often analyzed are:ER and CTR\n",
    "\n",
    " Engagement Rate (ER):\n",
    "\n",
    "- Definition: While \"ER\" with a commonly used definition in mobile advertising refers to Estimated Revenue (ER). This metric represents the projected average revenue earned from each user who installs the app through the ad campaign.\n",
    "\n",
    " Click-Through Rate (CTR):\n",
    "\n",
    "- Definition: CTR measures the percentage of people who see yan ad and then click on it. It's calculated by dividing the number of clicks an ad receives by the number of times it's shown (impressions). CTR = (Clicks / Impressions) * 100%\n",
    "\n",
    "CTR: Measures ad engagement and how well it attracts clicks.\n",
    "ER: Measures user value and the expected revenue generated from those clicks.\n"
   ]
  },
  {
   "cell_type": "code",
   "execution_count": 29,
   "id": "ec0a4110",
   "metadata": {},
   "outputs": [
    {
     "data": {
      "text/plain": [
       "(905, 4)"
      ]
     },
     "execution_count": 29,
     "metadata": {},
     "output_type": "execute_result"
    }
   ],
   "source": [
    "df.shape"
   ]
  },
  {
   "cell_type": "code",
   "execution_count": 4,
   "id": "7dc294db",
   "metadata": {},
   "outputs": [
    {
     "data": {
      "text/html": [
       "<div>\n",
       "<style scoped>\n",
       "    .dataframe tbody tr th:only-of-type {\n",
       "        vertical-align: middle;\n",
       "    }\n",
       "\n",
       "    .dataframe tbody tr th {\n",
       "        vertical-align: top;\n",
       "    }\n",
       "\n",
       "    .dataframe thead th {\n",
       "        text-align: right;\n",
       "    }\n",
       "</style>\n",
       "<table border=\"1\" class=\"dataframe\">\n",
       "  <thead>\n",
       "    <tr style=\"text-align: right;\">\n",
       "      <th></th>\n",
       "      <th>game_id</th>\n",
       "      <th>preview_link</th>\n",
       "      <th>ER</th>\n",
       "      <th>CTR</th>\n",
       "    </tr>\n",
       "  </thead>\n",
       "  <tbody>\n",
       "    <tr>\n",
       "      <th>0</th>\n",
       "      <td>bfbf7a2b7ac635e67877b1ab87fd6629</td>\n",
       "      <td>https://s3.us-east-1.amazonaws.com/a.futureadl...</td>\n",
       "      <td>0.209269</td>\n",
       "      <td>0.058438</td>\n",
       "    </tr>\n",
       "    <tr>\n",
       "      <th>1</th>\n",
       "      <td>945010afbf9a55bbdffcb0895f946155</td>\n",
       "      <td>https://s3.us-east-1.amazonaws.com/a.futureadl...</td>\n",
       "      <td>0.274552</td>\n",
       "      <td>0.074731</td>\n",
       "    </tr>\n",
       "    <tr>\n",
       "      <th>2</th>\n",
       "      <td>e68e20f592457b875ce29757ab855dfe</td>\n",
       "      <td>https://s3.us-east-1.amazonaws.com/a.futureadl...</td>\n",
       "      <td>0.103688</td>\n",
       "      <td>0.042228</td>\n",
       "    </tr>\n",
       "    <tr>\n",
       "      <th>3</th>\n",
       "      <td>adunit-nestle-purina-friskies-mob</td>\n",
       "      <td>https://s3.ap-southeast-1.amazonaws.com/a.futu...</td>\n",
       "      <td>0.136963</td>\n",
       "      <td>0.005393</td>\n",
       "    </tr>\n",
       "    <tr>\n",
       "      <th>4</th>\n",
       "      <td>adunit-lionsgate-uwomt-user-slider-sensory-vid...</td>\n",
       "      <td>https://s3.us-west-1.amazonaws.com/a.futureadl...</td>\n",
       "      <td>0.114208</td>\n",
       "      <td>0.016443</td>\n",
       "    </tr>\n",
       "  </tbody>\n",
       "</table>\n",
       "</div>"
      ],
      "text/plain": [
       "                                             game_id  \\\n",
       "0                   bfbf7a2b7ac635e67877b1ab87fd6629   \n",
       "1                   945010afbf9a55bbdffcb0895f946155   \n",
       "2                   e68e20f592457b875ce29757ab855dfe   \n",
       "3                  adunit-nestle-purina-friskies-mob   \n",
       "4  adunit-lionsgate-uwomt-user-slider-sensory-vid...   \n",
       "\n",
       "                                        preview_link        ER       CTR  \n",
       "0  https://s3.us-east-1.amazonaws.com/a.futureadl...  0.209269  0.058438  \n",
       "1  https://s3.us-east-1.amazonaws.com/a.futureadl...  0.274552  0.074731  \n",
       "2  https://s3.us-east-1.amazonaws.com/a.futureadl...  0.103688  0.042228  \n",
       "3  https://s3.ap-southeast-1.amazonaws.com/a.futu...  0.136963  0.005393  \n",
       "4  https://s3.us-west-1.amazonaws.com/a.futureadl...  0.114208  0.016443  "
      ]
     },
     "execution_count": 4,
     "metadata": {},
     "output_type": "execute_result"
    }
   ],
   "source": [
    "\n",
    "df.head()"
   ]
  },
  {
   "cell_type": "code",
   "execution_count": 8,
   "id": "a62316ef",
   "metadata": {},
   "outputs": [
    {
     "name": "stdout",
     "output_type": "stream",
     "text": [
      "<class 'pandas.core.frame.DataFrame'>\n",
      "RangeIndex: 905 entries, 0 to 904\n",
      "Data columns (total 4 columns):\n",
      " #   Column        Non-Null Count  Dtype  \n",
      "---  ------        --------------  -----  \n",
      " 0   game_id       905 non-null    object \n",
      " 1   preview_link  905 non-null    object \n",
      " 2   ER            905 non-null    float64\n",
      " 3   CTR           905 non-null    float64\n",
      "dtypes: float64(2), object(2)\n",
      "memory usage: 28.4+ KB\n"
     ]
    }
   ],
   "source": [
    "df.info()  # Get information about the dataframe, such as data types and missing values"
   ]
  },
  {
   "cell_type": "code",
   "execution_count": 6,
   "id": "08b12751",
   "metadata": {},
   "outputs": [
    {
     "data": {
      "text/html": [
       "<div>\n",
       "<style scoped>\n",
       "    .dataframe tbody tr th:only-of-type {\n",
       "        vertical-align: middle;\n",
       "    }\n",
       "\n",
       "    .dataframe tbody tr th {\n",
       "        vertical-align: top;\n",
       "    }\n",
       "\n",
       "    .dataframe thead th {\n",
       "        text-align: right;\n",
       "    }\n",
       "</style>\n",
       "<table border=\"1\" class=\"dataframe\">\n",
       "  <thead>\n",
       "    <tr style=\"text-align: right;\">\n",
       "      <th></th>\n",
       "      <th>ER</th>\n",
       "      <th>CTR</th>\n",
       "    </tr>\n",
       "  </thead>\n",
       "  <tbody>\n",
       "    <tr>\n",
       "      <th>count</th>\n",
       "      <td>905.000000</td>\n",
       "      <td>905.000000</td>\n",
       "    </tr>\n",
       "    <tr>\n",
       "      <th>mean</th>\n",
       "      <td>0.136318</td>\n",
       "      <td>0.034466</td>\n",
       "    </tr>\n",
       "    <tr>\n",
       "      <th>std</th>\n",
       "      <td>0.091524</td>\n",
       "      <td>0.036967</td>\n",
       "    </tr>\n",
       "    <tr>\n",
       "      <th>min</th>\n",
       "      <td>0.000000</td>\n",
       "      <td>0.000000</td>\n",
       "    </tr>\n",
       "    <tr>\n",
       "      <th>25%</th>\n",
       "      <td>0.070338</td>\n",
       "      <td>0.007926</td>\n",
       "    </tr>\n",
       "    <tr>\n",
       "      <th>50%</th>\n",
       "      <td>0.118624</td>\n",
       "      <td>0.024537</td>\n",
       "    </tr>\n",
       "    <tr>\n",
       "      <th>75%</th>\n",
       "      <td>0.190722</td>\n",
       "      <td>0.047796</td>\n",
       "    </tr>\n",
       "    <tr>\n",
       "      <th>max</th>\n",
       "      <td>0.524498</td>\n",
       "      <td>0.297410</td>\n",
       "    </tr>\n",
       "  </tbody>\n",
       "</table>\n",
       "</div>"
      ],
      "text/plain": [
       "               ER         CTR\n",
       "count  905.000000  905.000000\n",
       "mean     0.136318    0.034466\n",
       "std      0.091524    0.036967\n",
       "min      0.000000    0.000000\n",
       "25%      0.070338    0.007926\n",
       "50%      0.118624    0.024537\n",
       "75%      0.190722    0.047796\n",
       "max      0.524498    0.297410"
      ]
     },
     "execution_count": 6,
     "metadata": {},
     "output_type": "execute_result"
    }
   ],
   "source": [
    "df.describe() # Summary statistics for numerical columns"
   ]
  },
  {
   "cell_type": "code",
   "execution_count": 33,
   "id": "64f9bfe2",
   "metadata": {},
   "outputs": [
    {
     "name": "stdout",
     "output_type": "stream",
     "text": [
      "The maximum Engagement Rate is 0.5244978411864089\n",
      "The minimum Engagement Rate is 0.0\n",
      "The maximum Click Through Rate is 0.2974101921470342\n",
      "The maximum Click Through Rate is 0.0\n"
     ]
    }
   ],
   "source": [
    "print(f\"The maximum Engagement Rate is {df['ER'].max()}\")\n",
    "print(f\"The minimum Engagement Rate is {df['ER'].min()}\")\n",
    "print(f\"The maximum Click Through Rate is {df['CTR'].max()}\")\n",
    "print(f\"The maximum Click Through Rate is {df['CTR'].min()}\")"
   ]
  },
  {
   "cell_type": "code",
   "execution_count": 34,
   "id": "b24ed1da",
   "metadata": {},
   "outputs": [
    {
     "data": {
      "text/plain": [
       "game_id                          0792c911c288bd241c1e2a2b64bce488\n",
       "preview_link    https://s3.eu-west-1.amazonaws.com/a.futureadl...\n",
       "ER                                                       0.524498\n",
       "CTR                                                      0.025249\n",
       "Name: 357, dtype: object"
      ]
     },
     "execution_count": 34,
     "metadata": {},
     "output_type": "execute_result"
    }
   ],
   "source": [
    "max_index = df['ER'].idxmax()\n",
    "max_row = df.loc[max_index]\n",
    "max_row"
   ]
  },
  {
   "cell_type": "code",
   "execution_count": 35,
   "id": "80900d73",
   "metadata": {},
   "outputs": [
    {
     "data": {
      "text/plain": [
       "game_id         adunit-western-union-sensory-unit-swipe-right-...\n",
       "preview_link    https://s3.us-west-1.amazonaws.com/a.futureadl...\n",
       "ER                                                            0.0\n",
       "CTR                                                           0.0\n",
       "Name: 9, dtype: object"
      ]
     },
     "execution_count": 35,
     "metadata": {},
     "output_type": "execute_result"
    }
   ],
   "source": [
    "min_index = df['ER'].idxmin()\n",
    "min_row = df.loc[min_index]\n",
    "min_row"
   ]
  },
  {
   "cell_type": "code",
   "execution_count": 37,
   "id": "54f41a60",
   "metadata": {},
   "outputs": [
    {
     "data": {
      "text/plain": [
       "game_id                          6befe54086758294b47addf0c12052a7\n",
       "preview_link    https://s3.ap-east-1.amazonaws.com/a.futureadl...\n",
       "ER                                                       0.327068\n",
       "CTR                                                       0.29741\n",
       "Name: 161, dtype: object"
      ]
     },
     "execution_count": 37,
     "metadata": {},
     "output_type": "execute_result"
    }
   ],
   "source": [
    "max_index = df['CTR'].idxmax()\n",
    "max_row = df.loc[max_index]\n",
    "max_row"
   ]
  },
  {
   "cell_type": "code",
   "execution_count": 38,
   "id": "a420582f",
   "metadata": {},
   "outputs": [
    {
     "data": {
      "text/plain": [
       "game_id         adunit-western-union-sensory-unit-swipe-right-...\n",
       "preview_link    https://s3.us-west-1.amazonaws.com/a.futureadl...\n",
       "ER                                                            0.0\n",
       "CTR                                                           0.0\n",
       "Name: 9, dtype: object"
      ]
     },
     "execution_count": 38,
     "metadata": {},
     "output_type": "execute_result"
    }
   ],
   "source": [
    "min_index = df['CTR'].idxmin()\n",
    "min_row = df.loc[min_index]\n",
    "min_row"
   ]
  },
  {
   "cell_type": "code",
   "execution_count": 11,
   "id": "ea4daef0",
   "metadata": {},
   "outputs": [
    {
     "data": {
      "text/plain": [
       "game_id         0\n",
       "preview_link    0\n",
       "ER              0\n",
       "CTR             0\n",
       "dtype: int64"
      ]
     },
     "execution_count": 11,
     "metadata": {},
     "output_type": "execute_result"
    }
   ],
   "source": [
    "df.isnull().sum()"
   ]
  },
  {
   "cell_type": "code",
   "execution_count": 48,
   "id": "f652ea9c",
   "metadata": {},
   "outputs": [
    {
     "name": "stdout",
     "output_type": "stream",
     "text": [
      "539 amount of Ads has generated atleast 0.1% ER\n"
     ]
    }
   ],
   "source": [
    "count = df[df['ER'] >= 0.1].shape[0]\n",
    "print(f\"{count} amount of Ads has generated atleast 0.1% ER\")"
   ]
  },
  {
   "cell_type": "code",
   "execution_count": 49,
   "id": "c5e404c4",
   "metadata": {},
   "outputs": [
    {
     "name": "stdout",
     "output_type": "stream",
     "text": [
      "44 amount of Ads has generated atleast 0.1% CTR\n"
     ]
    }
   ],
   "source": [
    "counts = df[df['CTR'] >= 0.1].shape[0]\n",
    "print(f\"{counts} amount of Ads has generated atleast 0.1% CTR\")"
   ]
  },
  {
   "cell_type": "markdown",
   "id": "38dce545",
   "metadata": {},
   "source": [
    "### Distribution of ER and CTR"
   ]
  },
  {
   "cell_type": "code",
   "execution_count": 12,
   "id": "6970be1f",
   "metadata": {},
   "outputs": [
    {
     "data": {
      "image/png": "[encoded data removed]",
      "text/plain": [
       "<Figure size 1000x600 with 1 Axes>"
      ]
     },
     "metadata": {},
     "output_type": "display_data"
    }
   ],
   "source": [
    "plt.figure(figsize=(10, 6))\n",
    "sns.histplot(df['ER'], bins=20, kde=True, color='blue', label='ER')\n",
    "sns.histplot(df['CTR'], bins=20, kde=True, color='red', label='CTR')\n",
    "plt.xlabel('Value')\n",
    "plt.ylabel('Frequency')\n",
    "plt.title('Distribution of ER and CTR')\n",
    "plt.legend()\n",
    "plt.show()"
   ]
  },
  {
   "cell_type": "markdown",
   "id": "b5a9886d",
   "metadata": {},
   "source": [
    "### Looking at the relationship between ER and CTR"
   ]
  },
  {
   "cell_type": "code",
   "execution_count": 13,
   "id": "ef3c5853",
   "metadata": {},
   "outputs": [
    {
     "data": {
      "image/png": "[encoded data removed]",
      "text/plain": [
       "<Figure size 800x800 with 1 Axes>"
      ]
     },
     "metadata": {},
     "output_type": "display_data"
    }
   ],
   "source": [
    "plt.figure(figsize=(8, 8))\n",
    "sns.scatterplot(x='ER', y='CTR', data=df)\n",
    "plt.xlabel('ER')\n",
    "plt.ylabel('CTR')\n",
    "plt.title('Relationship between ER and CTR')\n",
    "plt.show()"
   ]
  },
  {
   "cell_type": "markdown",
   "id": "19613820",
   "metadata": {},
   "source": [
    "### Correlation"
   ]
  },
  {
   "cell_type": "code",
   "execution_count": 14,
   "id": "78a55f6c",
   "metadata": {},
   "outputs": [
    {
     "data": {
      "image/png": "[encoded data removed]",
      "text/plain": [
       "<Figure size 800x600 with 2 Axes>"
      ]
     },
     "metadata": {},
     "output_type": "display_data"
    }
   ],
   "source": [
    "# Select numeric columns\n",
    "numeric_columns = df.select_dtypes(include=['number'])\n",
    "\n",
    "# correlation matrix\n",
    "correlation_matrix = numeric_columns.corr()\n",
    "\n",
    "# Plot correlation matrix\n",
    "plt.figure(figsize=(8, 6))\n",
    "sns.heatmap(correlation_matrix, annot=True, cmap='coolwarm', fmt=\".2f\", linewidths=0.5)\n",
    "plt.title('Correlation Matrix')\n",
    "plt.show()"
   ]
  },
  {
   "cell_type": "markdown",
   "id": "1e77246a",
   "metadata": {},
   "source": [
    "### Exploring concepts assets and frames"
   ]
  },
  {
   "cell_type": "markdown",
   "id": "d92d5141",
   "metadata": {},
   "source": [
    "#### Load concepts data"
   ]
  },
  {
   "cell_type": "code",
   "execution_count": 16,
   "id": "82cba4f8",
   "metadata": {},
   "outputs": [],
   "source": [
    "df2 = pd.read_json(\"../data/concepts.json\")"
   ]
  },
  {
   "cell_type": "code",
   "execution_count": 24,
   "id": "cd205b4d",
   "metadata": {},
   "outputs": [
    {
     "data": {
      "text/plain": [
       "Index(['concept', 'implementation', 'explanation', 'asset_suggestions'], dtype='object')"
      ]
     },
     "execution_count": 24,
     "metadata": {},
     "output_type": "execute_result"
    }
   ],
   "source": [
    "df2.columns"
   ]
  },
  {
   "cell_type": "code",
   "execution_count": 28,
   "id": "bbe97e49",
   "metadata": {},
   "outputs": [
    {
     "data": {
      "text/plain": [
       "(115, 4)"
      ]
     },
     "execution_count": 28,
     "metadata": {},
     "output_type": "execute_result"
    }
   ],
   "source": [
    "df2.shape"
   ]
  },
  {
   "cell_type": "code",
   "execution_count": 23,
   "id": "d821fb24",
   "metadata": {},
   "outputs": [
    {
     "data": {
      "text/html": [
       "<div>\n",
       "<style scoped>\n",
       "    .dataframe tbody tr th:only-of-type {\n",
       "        vertical-align: middle;\n",
       "    }\n",
       "\n",
       "    .dataframe tbody tr th {\n",
       "        vertical-align: top;\n",
       "    }\n",
       "\n",
       "    .dataframe thead th {\n",
       "        text-align: right;\n",
       "    }\n",
       "</style>\n",
       "<table border=\"1\" class=\"dataframe\">\n",
       "  <thead>\n",
       "    <tr style=\"text-align: right;\">\n",
       "      <th></th>\n",
       "      <th>concept</th>\n",
       "      <th>implementation</th>\n",
       "      <th>explanation</th>\n",
       "      <th>asset_suggestions</th>\n",
       "    </tr>\n",
       "  </thead>\n",
       "  <tbody>\n",
       "    <tr>\n",
       "      <th>0</th>\n",
       "      <td>Escape Challenge Teaser</td>\n",
       "      <td>{'frame_1': {'description': 'The ad begins wit...</td>\n",
       "      <td>This concept aligns with LEGO CITY's brand ide...</td>\n",
       "      <td>[{'frame_1': {'Background Animation': 'A suspe...</td>\n",
       "    </tr>\n",
       "    <tr>\n",
       "      <th>1</th>\n",
       "      <td>Interactive Storytelling</td>\n",
       "      <td>{'frame_1': {'description': 'The ad opens with...</td>\n",
       "      <td>This concept aligns with LEGO CITY's brand ide...</td>\n",
       "      <td>[{'frame_1': {'Background Animation': 'A suspe...</td>\n",
       "    </tr>\n",
       "    <tr>\n",
       "      <th>2</th>\n",
       "      <td>City Tour</td>\n",
       "      <td>{'frame_1': {'description': 'The ad begins wit...</td>\n",
       "      <td>This concept aligns with LEGO CITY's brand ide...</td>\n",
       "      <td>[{'frame_1': {'Background Animation': 'A suspe...</td>\n",
       "    </tr>\n",
       "    <tr>\n",
       "      <th>3</th>\n",
       "      <td>Interactive Globe Journey</td>\n",
       "      <td>{'frame_1': {'description': 'The ad opens with...</td>\n",
       "      <td>This concept aligns with the brand's identity ...</td>\n",
       "      <td>[{'frame_1': {'3D Globe': 'A high-definition 3...</td>\n",
       "    </tr>\n",
       "    <tr>\n",
       "      <th>4</th>\n",
       "      <td>Cultural Carousel</td>\n",
       "      <td>{'frame_1': {'description': 'A carousel of cul...</td>\n",
       "      <td>This concept leverages the brand's diverse por...</td>\n",
       "      <td>[{'frame_1': {'Background Image': 'A high-reso...</td>\n",
       "    </tr>\n",
       "  </tbody>\n",
       "</table>\n",
       "</div>"
      ],
      "text/plain": [
       "                     concept  \\\n",
       "0    Escape Challenge Teaser   \n",
       "1   Interactive Storytelling   \n",
       "2                  City Tour   \n",
       "3  Interactive Globe Journey   \n",
       "4          Cultural Carousel   \n",
       "\n",
       "                                      implementation  \\\n",
       "0  {'frame_1': {'description': 'The ad begins wit...   \n",
       "1  {'frame_1': {'description': 'The ad opens with...   \n",
       "2  {'frame_1': {'description': 'The ad begins wit...   \n",
       "3  {'frame_1': {'description': 'The ad opens with...   \n",
       "4  {'frame_1': {'description': 'A carousel of cul...   \n",
       "\n",
       "                                         explanation  \\\n",
       "0  This concept aligns with LEGO CITY's brand ide...   \n",
       "1  This concept aligns with LEGO CITY's brand ide...   \n",
       "2  This concept aligns with LEGO CITY's brand ide...   \n",
       "3  This concept aligns with the brand's identity ...   \n",
       "4  This concept leverages the brand's diverse por...   \n",
       "\n",
       "                                   asset_suggestions  \n",
       "0  [{'frame_1': {'Background Animation': 'A suspe...  \n",
       "1  [{'frame_1': {'Background Animation': 'A suspe...  \n",
       "2  [{'frame_1': {'Background Animation': 'A suspe...  \n",
       "3  [{'frame_1': {'3D Globe': 'A high-definition 3...  \n",
       "4  [{'frame_1': {'Background Image': 'A high-reso...  "
      ]
     },
     "execution_count": 23,
     "metadata": {},
     "output_type": "execute_result"
    }
   ],
   "source": [
    "df2.head()"
   ]
  },
  {
   "cell_type": "code",
   "execution_count": 18,
   "id": "44016942",
   "metadata": {},
   "outputs": [
    {
     "data": {
      "text/html": [
       "<div>\n",
       "<style scoped>\n",
       "    .dataframe tbody tr th:only-of-type {\n",
       "        vertical-align: middle;\n",
       "    }\n",
       "\n",
       "    .dataframe tbody tr th {\n",
       "        vertical-align: top;\n",
       "    }\n",
       "\n",
       "    .dataframe thead th {\n",
       "        text-align: right;\n",
       "    }\n",
       "</style>\n",
       "<table border=\"1\" class=\"dataframe\">\n",
       "  <thead>\n",
       "    <tr style=\"text-align: right;\">\n",
       "      <th></th>\n",
       "      <th>concept</th>\n",
       "      <th>implementation</th>\n",
       "      <th>explanation</th>\n",
       "      <th>asset_suggestions</th>\n",
       "    </tr>\n",
       "  </thead>\n",
       "  <tbody>\n",
       "    <tr>\n",
       "      <th>count</th>\n",
       "      <td>115</td>\n",
       "      <td>115</td>\n",
       "      <td>115</td>\n",
       "      <td>115</td>\n",
       "    </tr>\n",
       "    <tr>\n",
       "      <th>unique</th>\n",
       "      <td>99</td>\n",
       "      <td>111</td>\n",
       "      <td>103</td>\n",
       "      <td>103</td>\n",
       "    </tr>\n",
       "    <tr>\n",
       "      <th>top</th>\n",
       "      <td>The ad begins with a captivating image of the ...</td>\n",
       "      <td>{'frame_1': {'description': 'The ad opens with...</td>\n",
       "      <td>This concept aligns with Adludio's brand ident...</td>\n",
       "      <td>[{'frame_1': {'Background Animation': 'A suspe...</td>\n",
       "    </tr>\n",
       "    <tr>\n",
       "      <th>freq</th>\n",
       "      <td>5</td>\n",
       "      <td>5</td>\n",
       "      <td>5</td>\n",
       "      <td>13</td>\n",
       "    </tr>\n",
       "  </tbody>\n",
       "</table>\n",
       "</div>"
      ],
      "text/plain": [
       "                                                  concept  \\\n",
       "count                                                 115   \n",
       "unique                                                 99   \n",
       "top     The ad begins with a captivating image of the ...   \n",
       "freq                                                    5   \n",
       "\n",
       "                                           implementation  \\\n",
       "count                                                 115   \n",
       "unique                                                111   \n",
       "top     {'frame_1': {'description': 'The ad opens with...   \n",
       "freq                                                    5   \n",
       "\n",
       "                                              explanation  \\\n",
       "count                                                 115   \n",
       "unique                                                103   \n",
       "top     This concept aligns with Adludio's brand ident...   \n",
       "freq                                                    5   \n",
       "\n",
       "                                        asset_suggestions  \n",
       "count                                                 115  \n",
       "unique                                                103  \n",
       "top     [{'frame_1': {'Background Animation': 'A suspe...  \n",
       "freq                                                   13  "
      ]
     },
     "execution_count": 18,
     "metadata": {},
     "output_type": "execute_result"
    }
   ],
   "source": [
    "df2.describe()"
   ]
  },
  {
   "cell_type": "code",
   "execution_count": 19,
   "id": "222ca434",
   "metadata": {},
   "outputs": [
    {
     "name": "stdout",
     "output_type": "stream",
     "text": [
      "<class 'pandas.core.frame.DataFrame'>\n",
      "RangeIndex: 115 entries, 0 to 114\n",
      "Data columns (total 4 columns):\n",
      " #   Column             Non-Null Count  Dtype \n",
      "---  ------             --------------  ----- \n",
      " 0   concept            115 non-null    object\n",
      " 1   implementation     115 non-null    object\n",
      " 2   explanation        115 non-null    object\n",
      " 3   asset_suggestions  115 non-null    object\n",
      "dtypes: object(4)\n",
      "memory usage: 3.7+ KB\n"
     ]
    }
   ],
   "source": [
    "df2.info()"
   ]
  },
  {
   "cell_type": "code",
   "execution_count": 21,
   "id": "fa5f44eb",
   "metadata": {},
   "outputs": [
    {
     "data": {
      "text/plain": [
       "Index(['concept', 'implementation', 'explanation', 'asset_suggestions'], dtype='object')"
      ]
     },
     "execution_count": 21,
     "metadata": {},
     "output_type": "execute_result"
    }
   ],
   "source": [
    "df2.columns"
   ]
  },
  {
   "cell_type": "markdown",
   "id": "6a4e9d42",
   "metadata": {},
   "source": [
    "#### Extracting all the interaction types of the implementation"
   ]
  },
  {
   "cell_type": "code",
   "execution_count": 26,
   "id": "d7c68587",
   "metadata": {},
   "outputs": [
    {
     "name": "stdout",
     "output_type": "stream",
     "text": [
      "All interaction types: {'Drag and Drop', 'Tap', 'None', 'Tap and Hold', 'Swipe', 'Choice Selection'}\n"
     ]
    }
   ],
   "source": [
    "# Extract all implementation types\n",
    "implementation_types = set()\n",
    "\n",
    "for index, row in df2.iterrows():\n",
    "    implementation = row['implementation']\n",
    "    # print(list(implementation.items()))\n",
    "    # break\n",
    "    for frame, details in list(implementation.items()):\n",
    "        # print(details)\n",
    "        if \"interaction_type\" in details and details['interaction_type']:\n",
    "            implementation_types.add(details['interaction_type'])\n",
    "        # else:\n",
    "            # print(details)\n",
    "\n",
    "print(\"All interaction types:\", implementation_types)"
   ]
  },
  {
   "cell_type": "code",
   "execution_count": 27,
   "id": "0dca76a8",
   "metadata": {},
   "outputs": [
    {
     "data": {
      "text/plain": [
       "6"
      ]
     },
     "execution_count": 27,
     "metadata": {},
     "output_type": "execute_result"
    }
   ],
   "source": [
    "len(implementation_types)"
   ]
  },
  {
   "cell_type": "markdown",
   "id": "b983e498",
   "metadata": {},
   "source": [
    "#### Extract asset category types"
   ]
  },
  {
   "cell_type": "code",
   "execution_count": 30,
   "id": "ebf917c4",
   "metadata": {},
   "outputs": [
    {
     "name": "stdout",
     "output_type": "stream",
     "text": [
      "[('Background', 530), ('Interactive Element', 340), ('Logo', 287), ('Product Image', 251), ('CTA', 231), ('Text', 184), ('Headline Text', 159), ('Background Image', 146), ('Brand Logo', 117), ('Text Overlay', 77), ('Foreground', 71), ('Animation', 61), ('CTA Button', 54), ('Interaction', 39), ('Engagement Text', 37), ('Engagement Visual', 33), ('Product Close-up', 28), ('Tagline', 26), ('Swipe Indicator', 25), ('CTA Text', 24), ('Interactive Elements', 24), ('Overlay Text', 21), ('Interactive Text', 18), ('Product Feature Highlight', 17), ('Background Animation', 16), ('Main Character', 16), ('Voiceover', 15), ('Product', 15), ('Main Visual', 15), ('Main Product', 15), ('Countdown Timer', 13), ('Video Clips', 13), ('Toolbox', 13), ('Sound Effects', 13), ('Ending Scene', 13), ('Animated Cat', 13), ('Product Highlight', 12), ('Special Offer', 12), ('Adludio Logo', 12), ('Interactive Prompt', 12), ('Image Gallery', 12), ('Main Focus', 12), ('Interactive Button', 11), ('Product Video', 10), ('Background Video', 10), ('Brand Element', 9), ('Foreground Text', 9), ('Creative Element', 9), ('Call-to-Action', 9), ('Product Images', 9), ('Character', 9), ('Feature Highlight Text', 9), ('CTA Image', 9), ('Nutritional Information', 9), ('SmartPack Image', 9), ('Product Feature', 9), ('Background Music', 7), ('Cityscape Background', 7), ('3D Globe', 6), ('Discover More Button', 6), ('Product Showcase', 6), ('Sound', 6), ('Question Text', 6), ('Text Element', 6), ('Swipe Feature', 6), ('Final Scene', 6), ('Closing Text', 6), ('Transition', 6), ('Animated Waves and Grass', 6), ('Scene Image', 6), ('Product Features', 6), ('Testimonial Quote', 6), ('Image', 6), ('Supporting Text', 6), ('SmartPack Product Image', 5), ('Book Now Button', 4), ('Product Range', 4), ('Product Feature Text', 4), ('Destination Highlight', 3), ('Travel Specialist', 3), ('Interactive Icons', 3), ('Destination Text', 3), ('Video', 3), ('Prompt', 3), ('Quiz Element', 3), ('Product Animation', 3), ('Animated Element', 3), ('Audio', 3), ('Interactive 360 View', 3), ('Product Placement', 3), ('Game Interface', 3), ('Celebration Animation', 3), ('Audio Element', 3), ('Brand Reinforcement', 3), ('Product Compatibility', 3), ('Final Image', 3), ('Choice Buttons', 3), ('Destination Reveal', 3), ('Destination Description', 3), ('Travel Specialist Character', 3), ('Insight Text', 3), ('Interactive Choices', 3), ('Summary Text', 3), ('Start Quiz Button', 3), ('Answer Buttons', 3), ('Progress Bar', 3), ('Destination Reveal Text', 3), ('Character Asset', 3), ('CTA Element', 3), ('Start Button', 3), ('360 View', 3), ('Brand Tagline', 3), ('Personalized Itinerary', 3), ('SmartPack', 3), ('Interactive SmartPack', 3), ('Color Transition', 3), ('Zoomed Compartments', 3), ('Animated Cityscape', 3), ('Interactive Menu', 3), ('Experience Description', 3), ('Carousel', 3), ('Animated Icons', 3), ('Ambient Sound', 3), ('Benefit Text', 3), ('Cat Image', 3), ('Cat Enjoying Meal', 3), ('Nutritional Benefits', 3), ('Interactive Transition', 3), ('Interactive Swipe', 3), ('Viewfinder Visual', 3), ('Focus', 3), ('Transitioning Backgrounds', 3), ('Text Overlays', 3), ('Shop Now CTA', 3), ('Information Text', 3), ('Animated Images', 3), ('Animated Sequence', 3), ('Final Product Image', 3), ('Quiz Elements', 3), ('Zoomed Image', 3), ('Animated Video', 3), ('Interactive Demonstration', 3), ('Transition Effect', 3), ('Portrait Shot', 3), ('Action Shot', 3), ('Controller Overlay', 3), ('Victory Animation', 3), ('Informational Text', 3), ('Reward Text', 3), ('Animated Map', 2), ('Cultural Elements', 2), ('Ambient Sounds', 2), ('Destination Journey', 2), ('SmartPack Open Image', 2), ('Character Images', 2), ('Swipeable Scenes', 2), ('Interactive Capture', 2), ('Image Carousel', 2), ('Interactive Video', 2), ('Animated Text', 2), ('Ambient Lighting', 2), ('Feature Highlight Image', 2), ('Product Features Video', 1), ('Product Features Animation', 1), ('Product Features Interactive Elements', 1), ('Country Zoom', 1), ('Product Integration', 1), ('Music Visualization', 1), ('Concert Scene', 1), ('Immersive Music', 1), ('Lighting Effects', 1), ('Behind-the-Scenes', 1), ('Call to Action', 1), ('Brand Presence', 1), ('Local Spotlight', 1), ('Branding Elements', 1), ('Audio Engagement', 1), ('Festival Atmosphere', 1), ('Sensory Overload', 1), ('Colorful Imagery', 1), ('Artistic Collaboration', 1), ('Interactive Invitation', 1), ('Cultural Showcase', 1), ('Interactive Map', 1), ('Engagement Trigger', 1), ('Logo Integration', 1), ('Cultural Immersion', 1), ('Seamless Branding', 1), ('Auditory Connection', 1), ('Live Concert Vibe', 1), ('Rhythmic Engagement', 1), ('Vibrant Visuals', 1), ('Creative Synergy', 1), ('Discovery Element', 1), ('Diversity Highlight', 1), ('Interaction Prompt', 1), ('Music Integration', 1), ('CTA Design', 1), ('CTA Interaction', 1), ('Visual Effects', 1), ('Audio Visual Sync', 1), ('CTA Placement', 1), ('Rotating Globe', 1), ('Prompt Text', 1), ('Zoomed Destination', 1), ('Invitation Text', 1), ('Interactive Globe', 1), ('Instructional Text', 1), ('Destination Montage', 1), ('Persuasive Text', 1), ('Animated Globe', 1), ('Destination Showcase', 1), ('Cultural Music', 1), ('Action Button', 1), ('Motivational Text', 1), ('Destination Visuals', 1), ('Food Bowl', 1), ('Urban Background', 1), ('SmartPack Interior Image', 1), ('Character Videos', 1), ('SmartPack Product Video', 1), ('Campus Background', 1), ('Interactive Scenes', 1), ('Swipeable Element', 1), ('Tap-to-Capture', 1), ('Testimonial', 1), ('Hotspots', 1), ('Close-up Image', 1), ('Interactive Animation', 1), ('Runway Video', 1), ('Lifestyle Video', 1), ('Interactive Gallery', 1), ('Caption', 1), ('Fade-out Effect', 1), ('Fast-paced Game Scenes', 1), ('Spotlight Effect', 1), ('Dynamic Game Scenes', 1), ('Intense Game Scenes', 1), ('360-degree View Video', 1), ('Interactive 3D Model', 1), ('Feature Highlight Video', 1)]\n"
     ]
    }
   ],
   "source": [
    "from collections import defaultdict\n",
    "\n",
    "\n",
    "asset_categories = defaultdict(int)\n",
    "for suggestions in df2['asset_suggestions']:\n",
    "    for frames in suggestions:\n",
    "        for frame in frames:\n",
    "            if frame != \"explanation\":\n",
    "                for key in frames[frame].keys():\n",
    "                    asset_categories[key] += 1\n",
    "\n",
    "\n",
    "asset_categories = sorted(asset_categories.items(), reverse=True, key=lambda x:x[1])\n",
    "print(asset_categories)"
   ]
  },
  {
   "cell_type": "code",
   "execution_count": 31,
   "id": "cc8d9ef7",
   "metadata": {},
   "outputs": [
    {
     "data": {
      "text/plain": [
       "241"
      ]
     },
     "execution_count": 31,
     "metadata": {},
     "output_type": "execute_result"
    }
   ],
   "source": [
    "len(asset_categories)"
   ]
  },
  {
   "cell_type": "markdown",
   "id": "3707bf72",
   "metadata": {},
   "source": [
    "#### Top 10 categories of asset visualization"
   ]
  },
  {
   "cell_type": "code",
   "execution_count": 32,
   "id": "56560317",
   "metadata": {},
   "outputs": [
    {
     "data": {
      "image/png": "[encoded data removed]",
      "text/plain": [
       "<Figure size 1000x600 with 1 Axes>"
      ]
     },
     "metadata": {},
     "output_type": "display_data"
    }
   ],
   "source": [
    "# Extract top 10 categories\n",
    "top_10_categories = asset_categories[:10]\n",
    "\n",
    "# Extract category names and counts for plotting\n",
    "categories = [category[0] for category in top_10_categories]\n",
    "counts = [category[1] for category in top_10_categories]\n",
    "\n",
    "# Plotting\n",
    "plt.figure(figsize=(10, 6))\n",
    "plt.barh(categories, counts, color='skyblue')\n",
    "plt.xlabel('Count')\n",
    "plt.ylabel('Asset Category')\n",
    "plt.title('Top 10 Asset Categories')\n",
    "plt.gca().invert_yaxis()  # Invert y-axis to display the category with highest count on top\n",
    "plt.show()"
   ]
  },
  {
   "cell_type": "code",
   "execution_count": null,
   "id": "79276bef",
   "metadata": {},
   "outputs": [],
   "source": []
  }
 ],
 "metadata": {
  "kernelspec": {
   "display_name": "Python 3 (ipykernel)",
   "language": "python",
   "name": "python3"
  },
  "language_info": {
   "codemirror_mode": {
    "name": "ipython",
    "version": 3
   },
   "file_extension": ".py",
   "mimetype": "text/x-python",
   "name": "python",
   "nbconvert_exporter": "python",
   "pygments_lexer": "ipython3",
   "version": "3.12.2"
  }
 },
 "nbformat": 4,
 "nbformat_minor": 5
}
